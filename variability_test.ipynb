{
 "cells": [
  {
   "cell_type": "code",
   "execution_count": 107,
   "metadata": {},
   "outputs": [],
   "source": [
    "import numpy as np\n",
    "import scipy.stats as st\n",
    "from astropy.io import fits,ascii\n",
    "from astropy.time import Time\n",
    "import matplotlib.pylab as plt\n",
    "import matplotlib.gridspec as gridspec\n",
    "from matplotlib import rc\n",
    "rc('font',**{'family':'sans-serif','sans-serif':['Helvetica']})\n",
    "rc('text', usetex=True)\n",
    "rc('font', family='serif')\n",
    "\n",
    "import palettable\n",
    "\n",
    "%matplotlib inline\n",
    "\n"
   ]
  },
  {
   "cell_type": "code",
   "execution_count": 95,
   "metadata": {},
   "outputs": [],
   "source": [
    "###generate test array of luminosities and times\n",
    "\n",
    "v_lx=np.abs(np.random.uniform(0, 80, 10))\n",
    "v_times=np.array([5, 10, 23, 34, 46, 57, 68, 70, 81, 94])\n",
    "\n",
    "##generating random upper and lower error bars because it's like the data\n",
    "v_err_low=np.abs(np.random.uniform(0, 5, 10))\n",
    "v_err_high=np.abs(np.random.uniform(0, 5, 10))\n"
   ]
  },
  {
   "cell_type": "code",
   "execution_count": 96,
   "metadata": {},
   "outputs": [
    {
     "data": {
      "text/plain": [
       "Text(0,0.5,'fake luminosities')"
      ]
     },
     "execution_count": 96,
     "metadata": {},
     "output_type": "execute_result"
    },
    {
     "data": {
      "image/png": "[encoded data removed]",
      "text/plain": [
       "<Figure size 432x288 with 1 Axes>"
      ]
     },
     "metadata": {},
     "output_type": "display_data"
    }
   ],
   "source": [
    "plt.errorbar(v_times, v_lx, yerr=[v_err_low, v_err_high], fmt='.', color=palettable.cubehelix.cubehelix3_16.mpl_colors[9])\n",
    "plt.xlabel('fake times')\n",
    "plt.ylabel('fake luminosities')"
   ]
  },
  {
   "cell_type": "code",
   "execution_count": 97,
   "metadata": {},
   "outputs": [],
   "source": [
    "##first we need to even out the error bars. \n",
    "\n",
    "##making an empty array\n",
    "v_err=np.zeros(v_err_low.size)\n",
    "\n",
    "#compare upper and lower error bars and fill v_err with the higher value at each index\n",
    "for i in range(v_err_low.size):\n",
    "    \n",
    "    v_err[i]=np.maximum(v_err_low[i], v_err_high[i])"
   ]
  },
  {
   "cell_type": "code",
   "execution_count": 98,
   "metadata": {},
   "outputs": [
    {
     "data": {
      "text/plain": [
       "Text(0,0.5,'fake luminosities')"
      ]
     },
     "execution_count": 98,
     "metadata": {},
     "output_type": "execute_result"
    },
    {
     "data": {
      "image/png": "[encoded data removed]",
      "text/plain": [
       "<Figure size 432x288 with 1 Axes>"
      ]
     },
     "metadata": {},
     "output_type": "display_data"
    }
   ],
   "source": [
    "plt.errorbar(v_times, v_lx, yerr=v_err, fmt='.', color=palettable.cubehelix.cubehelix3_16.mpl_colors[12])\n",
    "plt.xlabel('fake times')\n",
    "plt.ylabel('fake luminosities')"
   ]
  },
  {
   "cell_type": "code",
   "execution_count": 99,
   "metadata": {},
   "outputs": [
    {
     "data": {
      "text/plain": [
       "Text(0,0.5,'fake luminosities')"
      ]
     },
     "execution_count": 99,
     "metadata": {},
     "output_type": "execute_result"
    },
    {
     "data": {
      "image/png": "[encoded data removed]",
      "text/plain": [
       "<Figure size 432x288 with 1 Axes>"
      ]
     },
     "metadata": {},
     "output_type": "display_data"
    }
   ],
   "source": [
    "##next we need to take a weighted average, using the errors as the weights\n",
    "#https://docs.scipy.org/doc/numpy/reference/generated/numpy.average.html\n",
    "\n",
    "wg_mean=np.average(v_lx, weights=v_err)\n",
    "\n",
    "plt.errorbar(v_times, v_lx, yerr=v_err, fmt='.', color=palettable.cubehelix.cubehelix3_16.mpl_colors[12])\n",
    "plt.axhline(y=wg_mean,  color=palettable.cubehelix.cubehelix3_16.mpl_colors[10])\n",
    "plt.xlabel('fake times')\n",
    "plt.ylabel('fake luminosities')"
   ]
  },
  {
   "cell_type": "code",
   "execution_count": 100,
   "metadata": {},
   "outputs": [
    {
     "data": {
      "text/plain": [
       "Power_divergenceResult(statistic=161.72850751994176, pvalue=3.2476822918992975e-30)"
      ]
     },
     "execution_count": 100,
     "metadata": {},
     "output_type": "execute_result"
    }
   ],
   "source": [
    "##to quantify variability, we want to compute the chi squared of each value compared to the straight line fit above. \n",
    "\n",
    "#fill an array the same length as our data points with the new value\n",
    "mn_lx=np.full((v_lx.size), wg_mean)\n",
    "\n",
    "##to compute chi squared:\n",
    "#https://docs.scipy.org/doc/scipy/reference/generated/scipy.stats.chisquare.html\n",
    "st.chisquare(v_lx, f_exp=mn_lx)"
   ]
  },
  {
   "cell_type": "markdown",
   "metadata": {},
   "source": [
    "A small chi squared means that the observed data fits the model (which in this case is non variability) well. \n",
    "The large value from the example above means that this data is pretty variable!"
   ]
  },
  {
   "cell_type": "code",
   "execution_count": 101,
   "metadata": {},
   "outputs": [],
   "source": [
    "##okay but let's test this on fake data that doesn't vary....\n",
    "###generate test array of luminosities and times\n",
    "\n",
    "v_lx_no=np.abs(np.random.uniform(77, 80, 10))\n",
    "\n",
    "\n",
    "##generating random upper and lower error bars because it's like the data\n",
    "v_err_low_no=np.abs(np.random.uniform(0, 3, 10))\n",
    "v_err_high_no=np.abs(np.random.uniform(0, 3, 10))\n"
   ]
  },
  {
   "cell_type": "code",
   "execution_count": 102,
   "metadata": {},
   "outputs": [
    {
     "data": {
      "text/plain": [
       "Text(0,0.5,'fake luminosities')"
      ]
     },
     "execution_count": 102,
     "metadata": {},
     "output_type": "execute_result"
    },
    {
     "data": {
      "image/png": "[encoded data removed]",
      "text/plain": [
       "<Figure size 432x288 with 1 Axes>"
      ]
     },
     "metadata": {},
     "output_type": "display_data"
    }
   ],
   "source": [
    "plt.errorbar(v_times, v_lx_no, yerr=[v_err_low_no, v_err_high_no], fmt='.', color=palettable.cubehelix.cubehelix3_16.mpl_colors[9])\n",
    "plt.xlabel('fake times')\n",
    "plt.ylabel('fake luminosities')"
   ]
  },
  {
   "cell_type": "code",
   "execution_count": 103,
   "metadata": {},
   "outputs": [],
   "source": [
    "#let's even out the errors again\n",
    "\n",
    "\n",
    "v_err_no=np.zeros(v_err_low_no.size)\n",
    "\n",
    "#compare upper and lower error bars and fill v_err with the higher value at each index\n",
    "for i in range(v_err_low_no.size):\n",
    "    \n",
    "    v_err_no[i]=np.maximum(v_err_low_no[i], v_err_high_no[i])"
   ]
  },
  {
   "cell_type": "code",
   "execution_count": 104,
   "metadata": {},
   "outputs": [
    {
     "data": {
      "text/plain": [
       "Text(0,0.5,'fake luminosities')"
      ]
     },
     "execution_count": 104,
     "metadata": {},
     "output_type": "execute_result"
    },
    {
     "data": {
      "image/png": "[encoded data removed]",
      "text/plain": [
       "<Figure size 432x288 with 1 Axes>"
      ]
     },
     "metadata": {},
     "output_type": "display_data"
    }
   ],
   "source": [
    "plt.errorbar(v_times, v_lx_no, yerr=v_err_no, fmt='.', color=palettable.cubehelix.cubehelix3_16.mpl_colors[12])\n",
    "plt.xlabel('fake times')\n",
    "plt.ylabel('fake luminosities')"
   ]
  },
  {
   "cell_type": "code",
   "execution_count": 105,
   "metadata": {},
   "outputs": [
    {
     "data": {
      "text/plain": [
       "Text(0,0.5,'fake luminosities')"
      ]
     },
     "execution_count": 105,
     "metadata": {},
     "output_type": "execute_result"
    },
    {
     "data": {
      "image/png": "[encoded data removed]",
      "text/plain": [
       "<Figure size 432x288 with 1 Axes>"
      ]
     },
     "metadata": {},
     "output_type": "display_data"
    }
   ],
   "source": [
    "\n",
    "\n",
    "wg_mean_no=np.average(v_lx_no, weights=v_err_no)\n",
    "\n",
    "plt.errorbar(v_times, v_lx_no, yerr=v_err_no, fmt='.', color=palettable.cubehelix.cubehelix3_16.mpl_colors[12])\n",
    "plt.axhline(y=wg_mean_no,  color=palettable.cubehelix.cubehelix3_16.mpl_colors[10])\n",
    "plt.xlabel('fake times')\n",
    "plt.ylabel('fake luminosities')"
   ]
  },
  {
   "cell_type": "code",
   "execution_count": 106,
   "metadata": {},
   "outputs": [
    {
     "data": {
      "text/plain": [
       "Power_divergenceResult(statistic=0.09334602867561839, pvalue=0.9999999811476278)"
      ]
     },
     "execution_count": 106,
     "metadata": {},
     "output_type": "execute_result"
    }
   ],
   "source": [
    "##to quantify variability, we want to compute the chi squared of each value compared to the straight line fit above. \n",
    "\n",
    "#fill an array the same length as our data points with the new value\n",
    "mn_lx_no=np.full((v_lx_no.size), wg_mean_no)\n",
    "\n",
    "##to compute chi squared:\n",
    "#https://docs.scipy.org/doc/scipy/reference/generated/scipy.stats.chisquare.html\n",
    "st.chisquare(v_lx_no, f_exp=mn_lx_no)"
   ]
  },
  {
   "cell_type": "markdown",
   "metadata": {},
   "source": [
    "This is a much lower chi squared value, showing how much less variable the data is!"
   ]
  },
  {
   "cell_type": "code",
   "execution_count": null,
   "metadata": {},
   "outputs": [],
   "source": []
  }
 ],
 "metadata": {
  "kernelspec": {
   "display_name": "Python 2",
   "language": "python",
   "name": "python2"
  },
  "language_info": {
   "codemirror_mode": {
    "name": "ipython",
    "version": 2
   },
   "file_extension": ".py",
   "mimetype": "text/x-python",
   "name": "python",
   "nbconvert_exporter": "python",
   "pygments_lexer": "ipython2",
   "version": "2.7.15"
  }
 },
 "nbformat": 4,
 "nbformat_minor": 2
}
